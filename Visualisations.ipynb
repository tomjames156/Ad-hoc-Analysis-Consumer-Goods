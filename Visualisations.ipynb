{
 "cells": [
  {
   "cell_type": "code",
   "execution_count": null,
   "id": "01ecbe8d-4143-4dd9-90a7-3f43179dff47",
   "metadata": {},
   "outputs": [],
   "source": [
    "\"\"\"Install numpy pandas matplotlib, openpyxl and seaborn to use for the visualisations\"\"\"\n",
    "# import sys\n",
    "# !{sys.executable} -m pip install numpy openpyxl pandas matplotlib seaborn"
   ]
  },
  {
   "cell_type": "code",
   "execution_count": 29,
   "id": "e34bd595-73d5-4d85-ae8e-0d4e085af918",
   "metadata": {},
   "outputs": [],
   "source": [
    "import pandas as pd\n",
    "import matplotlib.pyplot as plt\n",
    "import seaborn as sns\n",
    "\n",
    "df = pd.read_excel(\"Atliq Adhoc Analysis Query Results.xlsx\", sheet_name=None)\n",
    "df_q1 = df['q1']\n",
    "df_q2 = df['q2']\n",
    "df_q3 = df['q3']\n",
    "df_q4 = df['q4']\n",
    "df_q5 = df['q5']\n",
    "df_q6 = df['q6']\n",
    "df_q7 = df['q7']\n",
    "df_q8 = df['q8']\n",
    "df_q9 = df['q9']\n",
    "df_q10 = df['q10']"
   ]
  },
  {
   "cell_type": "code",
   "execution_count": 41,
   "id": "edc33380-a874-44d0-8793-0534690ea996",
   "metadata": {},
   "outputs": [
    {
     "data": {
      "text/plain": [
       "\"['India', 'Indonesia', 'Japan', 'Philiphines', 'South Korea', 'Australia', 'Newzealand', 'Bangladesh']\""
      ]
     },
     "execution_count": 41,
     "metadata": {},
     "output_type": "execute_result"
    }
   ],
   "source": [
    "str(df_q1['market'].to_list())"
   ]
  },
  {
   "cell_type": "code",
   "execution_count": 36,
   "id": "fd6ba76d-2325-4dec-af5d-67ecd2fe2346",
   "metadata": {},
   "outputs": [
    {
     "data": {
      "text/html": [
       "<div>\n",
       "<style scoped>\n",
       "    .dataframe tbody tr th:only-of-type {\n",
       "        vertical-align: middle;\n",
       "    }\n",
       "\n",
       "    .dataframe tbody tr th {\n",
       "        vertical-align: top;\n",
       "    }\n",
       "\n",
       "    .dataframe thead th {\n",
       "        text-align: right;\n",
       "    }\n",
       "</style>\n",
       "<table border=\"1\" class=\"dataframe\">\n",
       "  <thead>\n",
       "    <tr style=\"text-align: right;\">\n",
       "      <th></th>\n",
       "      <th>2020</th>\n",
       "      <th>2021</th>\n",
       "    </tr>\n",
       "  </thead>\n",
       "  <tbody>\n",
       "    <tr>\n",
       "      <th>0</th>\n",
       "      <td>245</td>\n",
       "      <td>334</td>\n",
       "    </tr>\n",
       "  </tbody>\n",
       "</table>\n",
       "</div>"
      ],
      "text/plain": [
       "   2020  2021\n",
       "0   245   334"
      ]
     },
     "execution_count": 36,
     "metadata": {},
     "output_type": "execute_result"
    }
   ],
   "source": [
    "df_q2_vis = df_q2[['prd_count_2020', 'prd_count_2021']]\n",
    "df_q2_vis = df_q2_vis.rename(columns={\"prd_count_2020\": '2020', \"prd_count_2021\": '2021'})\n",
    "df_q2_vis"
   ]
  },
  {
   "cell_type": "code",
   "execution_count": 67,
   "id": "4d45797b-8774-4b9e-8fe5-28bc505003c7",
   "metadata": {},
   "outputs": [
    {
     "data": {
      "image/png": "[encoded data removed]",
      "text/plain": [
       "<Figure size 640x480 with 1 Axes>"
      ]
     },
     "metadata": {},
     "output_type": "display_data"
    }
   ],
   "source": [
    "fig, ax = plt.subplots()\n",
    "sns.barplot(data=df_q2_vis)\n",
    "ax.set_ylabel(\"Number of unique products\", labelpad=20)\n",
    "ax.set_xlabel(\"Year\")\n",
    "ax.set_title(\"Unique product increase in 2021 vs 2020\", y=1.05)\n",
    "plt.savefig(\"./visualisations/q3.png\", bbox_inches=\"tight\")\n",
    "plt.show()"
   ]
  },
  {
   "cell_type": "code",
   "execution_count": 58,
   "id": "ce432d50-6d80-49dd-bf41-d1f95f2b3476",
   "metadata": {},
   "outputs": [
    {
     "data": {
      "text/html": [
       "<div>\n",
       "<style scoped>\n",
       "    .dataframe tbody tr th:only-of-type {\n",
       "        vertical-align: middle;\n",
       "    }\n",
       "\n",
       "    .dataframe tbody tr th {\n",
       "        vertical-align: top;\n",
       "    }\n",
       "\n",
       "    .dataframe thead th {\n",
       "        text-align: right;\n",
       "    }\n",
       "</style>\n",
       "<table border=\"1\" class=\"dataframe\">\n",
       "  <thead>\n",
       "    <tr style=\"text-align: right;\">\n",
       "      <th></th>\n",
       "      <th>prd_count_2020</th>\n",
       "      <th>prd_count_2021</th>\n",
       "      <th>percentage_change</th>\n",
       "    </tr>\n",
       "  </thead>\n",
       "  <tbody>\n",
       "    <tr>\n",
       "      <th>0</th>\n",
       "      <td>245</td>\n",
       "      <td>334</td>\n",
       "      <td>36.33</td>\n",
       "    </tr>\n",
       "  </tbody>\n",
       "</table>\n",
       "</div>"
      ],
      "text/plain": [
       "   prd_count_2020  prd_count_2021  percentage_change\n",
       "0             245             334              36.33"
      ]
     },
     "execution_count": 58,
     "metadata": {},
     "output_type": "execute_result"
    }
   ],
   "source": []
  }
 ],
 "metadata": {
  "kernelspec": {
   "display_name": "Python 3 (ipykernel)",
   "language": "python",
   "name": "python3"
  },
  "language_info": {
   "codemirror_mode": {
    "name": "ipython",
    "version": 3
   },
   "file_extension": ".py",
   "mimetype": "text/x-python",
   "name": "python",
   "nbconvert_exporter": "python",
   "pygments_lexer": "ipython3",
   "version": "3.13.2"
  }
 },
 "nbformat": 4,
 "nbformat_minor": 5
}
